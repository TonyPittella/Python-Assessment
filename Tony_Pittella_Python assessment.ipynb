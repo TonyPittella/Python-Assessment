{
 "cells": [
  {
   "cell_type": "markdown",
   "metadata": {},
   "source": [
    "<a href=\"https://codeimmersives.com\"><img src = \"https://www.codeimmersives.com/wp-content/uploads/2019/09/CodeImmersives_Logo_RGB_NYC_BW.png\" width = 400> </a>\n",
    "\n",
    "\n",
    "<h1 align=center><font size = 5>Python Assessment</font></h1>"
   ]
  },
  {
   "cell_type": "markdown",
   "metadata": {},
   "source": [
    "### \n",
    "<div class=\"alert alert-block alert-info\" style=\"margin-top: 20px\">\n",
    "\n",
    "1.  [Exercise 1](#0)<br>\n",
    "2.  [Exercise 2](#2)<br> \n",
    "3.  [Exercise 3](#4)<br>   \n",
    "4.  [Exercise 4](#6)<br> \n",
    "5.  [Exercise 5](#8)<br> \n",
    "6.  [Exercise 6](#10)<br>\n",
    "7.  [Exercise 7](#12)<br> \n",
    "8.  [Exercise 8](#14)<br>   \n",
    "9.  [Exercise 9](#16)<br> \n",
    "</div>\n",
    "<hr>"
   ]
  },
  {
   "cell_type": "markdown",
   "metadata": {},
   "source": [
    "<h2 #0>Exercise 1</h2><a id=\"0\"></a>\n",
    "<code>\n",
    "purchases = {'2021-01-01': \n",
    "                 {'item-001': \n",
    "                      {'name': 'Alka Seltzer'},\n",
    "                 'item-002': \n",
    "                      {'name': 'Rolaids'},\n",
    "                 'item-003': \n",
    "                      {'name': 'Orange juice'}  }                \n",
    "            }\n",
    "</code>\n",
    "<br>\n",
    "<h4>List all of the names of items purchased</h4>"
   ]
  },
  {
   "cell_type": "code",
   "execution_count": 25,
   "metadata": {},
   "outputs": [
    {
     "name": "stdout",
     "output_type": "stream",
     "text": [
      "dict_values([{'item-001': {'name': 'Alka Seltzer'}, 'item-002': {'name': 'Rolaids'}, 'item-003': {'name': 'Orange juice'}}])\n"
     ]
    }
   ],
   "source": [
    "\n",
    "purchases = {'2021-01-01': \n",
    "                 {'item-001': {'name': 'Alka Seltzer'},\n",
    "                 'item-002': {'name': 'Rolaids'},\n",
    "                 'item-003': {'name': 'Orange juice'}\n",
    "                 }}\n",
    "# x = purchases.items()\n",
    "# print(x)\n",
    "x = purchases.values()\n",
    "print(x)\n",
    "\n",
    "\n",
    "# def getList(purchases):\n",
    "#     return purchases.keys()\n",
    "# print(getList(purchases))"
   ]
  },
  {
   "cell_type": "markdown",
   "metadata": {},
   "source": [
    "<h2>Exercise 2</h2><a id=\"2\"></a>\n",
    "<code>\n",
    "purchases = {'2021-01-01': {'item-001': {'name': 'Alka Seltzer'}, 'item-002': \n",
    "{'name': 'Rolaids'},\n",
    "'item-003': \n",
    "{'name': 'Orange juice'}  }                \n",
    "            }\n",
    "</code>\n",
    "<br>\n",
    "1 - Add a 4th item with a key of 'item-004' and name of 'Bloody Mary'<br>\n",
    "2 - Add a 5th item with a key of 'item-005' and name of 'Pineapple Juice'<br>\n",
    "3 - print all item names purchased<br>\n",
    "4 - print all juice items"
   ]
  },
  {
   "cell_type": "code",
   "execution_count": 26,
   "metadata": {},
   "outputs": [
    {
     "name": "stdout",
     "output_type": "stream",
     "text": [
      "{'2021-01-01': {'item-001': {'name': 'Alka Seltzer'}, 'item-002': {'name': 'Rolaids'}, 'item-003': {'name': 'Orange juice'}, 'item-004': {'name': 'Bloody Mary'}, 'item-005': {'name': 'Pineapple Juice'}}}\n"
     ]
    }
   ],
   "source": [
    "purchases = {'2021-01-01': \n",
    "                 {'item-001': {'name': 'Alka Seltzer'},\n",
    "                 'item-002': {'name': 'Rolaids'},\n",
    "                 'item-003': {'name': 'Orange juice'}\n",
    "                 }}\n",
    "# purchases[\"item-004\"] = \"'name': 'Bloody Mary'\"\n",
    "# print(purchases)\n",
    "purchases_2 = {'item-004': {'name': 'Bloody Mary'},\n",
    "                 'item-005': {'name': 'Pineapple Juice'}}\n",
    "\n",
    "purchases['2021-01-01'].update(purchases_2)\n",
    "print(purchases)"
   ]
  },
  {
   "cell_type": "markdown",
   "metadata": {},
   "source": [
    "<h2>Exercise 3</h2><a id=\"4\"></a>\n",
    "<code>\n",
    "items = ['Alka Seltzer', 'Rolaids', 'Orange juice', 'Bloody Mary', 'Pineapple Juice']\n",
    "</code>\n",
    "<br>\n",
    "1 - Randomly pick 3 items out of the list using iteration and name it basket1 - WITHOUT REPLACEMENT<br>\n",
    "2a - Randomly pick 3 items out of the list using iteration and name it basket2 - WITH REPLACEMENT<br>\n",
    "2b - List the items remaining in the basket"
   ]
  },
  {
   "cell_type": "code",
   "execution_count": 28,
   "metadata": {},
   "outputs": [
    {
     "ename": "NameError",
     "evalue": "name 'random' is not defined",
     "output_type": "error",
     "traceback": [
      "\u001b[0;31m------------------------------------------------------------\u001b[0m",
      "\u001b[0;31mNameError\u001b[0m                  Traceback (most recent call last)",
      "\u001b[0;32m<ipython-input-28-ff69dea62d49>\u001b[0m in \u001b[0;36m<module>\u001b[0;34m\u001b[0m\n\u001b[1;32m      2\u001b[0m \u001b[0;34m\u001b[0m\u001b[0m\n\u001b[1;32m      3\u001b[0m \u001b[0;34m\u001b[0m\u001b[0m\n\u001b[0;32m----> 4\u001b[0;31m \u001b[0mprint\u001b[0m\u001b[0;34m(\u001b[0m\u001b[0mrandom\u001b[0m\u001b[0;34m.\u001b[0m\u001b[0mchoices\u001b[0m\u001b[0;34m(\u001b[0m\u001b[0mitems\u001b[0m\u001b[0;34m)\u001b[0m\u001b[0;34m)\u001b[0m\u001b[0;34m\u001b[0m\u001b[0;34m\u001b[0m\u001b[0m\n\u001b[0m\u001b[1;32m      5\u001b[0m \u001b[0;31m# for x in items:\u001b[0m\u001b[0;34m\u001b[0m\u001b[0;34m\u001b[0m\u001b[0;34m\u001b[0m\u001b[0m\n\u001b[1;32m      6\u001b[0m \u001b[0;34m\u001b[0m\u001b[0m\n",
      "\u001b[0;31mNameError\u001b[0m: name 'random' is not defined"
     ]
    }
   ],
   "source": [
    "items = ['Alka Seltzer', 'Rolaids', 'Orange juice', 'Bloody Mary', 'Pineapple Juice']\n",
    "\n",
    "\n",
    "print(random.choices(items))\n",
    "# for x in items:\n",
    "    \n",
    "    "
   ]
  },
  {
   "cell_type": "markdown",
   "metadata": {},
   "source": [
    "<h2>Exercise 4</h2><a id=\"6\"></a>\n",
    "From the numbers 1 through 120 pick all numbers that are divisible by 3 and 5"
   ]
  },
  {
   "cell_type": "code",
   "execution_count": 29,
   "metadata": {},
   "outputs": [
    {
     "name": "stdout",
     "output_type": "stream",
     "text": [
      "1\n",
      "2\n",
      "3\n",
      "4\n",
      "5\n",
      "6\n",
      "7\n",
      "8\n",
      "9\n",
      "10\n",
      "11\n",
      "12\n",
      "13\n",
      "14\n",
      "FIZZBUZZ\n",
      "16\n",
      "17\n",
      "18\n",
      "19\n",
      "20\n",
      "21\n",
      "22\n",
      "23\n",
      "24\n",
      "25\n",
      "26\n",
      "27\n",
      "28\n",
      "29\n",
      "FIZZBUZZ\n",
      "31\n",
      "32\n",
      "33\n",
      "34\n",
      "35\n",
      "36\n",
      "37\n",
      "38\n",
      "39\n",
      "40\n",
      "41\n",
      "42\n",
      "43\n",
      "44\n",
      "FIZZBUZZ\n",
      "46\n",
      "47\n",
      "48\n",
      "49\n",
      "50\n",
      "51\n",
      "52\n",
      "53\n",
      "54\n",
      "55\n",
      "56\n",
      "57\n",
      "58\n",
      "59\n",
      "FIZZBUZZ\n",
      "61\n",
      "62\n",
      "63\n",
      "64\n",
      "65\n",
      "66\n",
      "67\n",
      "68\n",
      "69\n",
      "70\n",
      "71\n",
      "72\n",
      "73\n",
      "74\n",
      "FIZZBUZZ\n",
      "76\n",
      "77\n",
      "78\n",
      "79\n",
      "80\n",
      "81\n",
      "82\n",
      "83\n",
      "84\n",
      "85\n",
      "86\n",
      "87\n",
      "88\n",
      "89\n",
      "FIZZBUZZ\n",
      "91\n",
      "92\n",
      "93\n",
      "94\n",
      "95\n",
      "96\n",
      "97\n",
      "98\n",
      "99\n",
      "100\n",
      "101\n",
      "102\n",
      "103\n",
      "104\n",
      "FIZZBUZZ\n",
      "106\n",
      "107\n",
      "108\n",
      "109\n",
      "110\n",
      "111\n",
      "112\n",
      "113\n",
      "114\n",
      "115\n",
      "116\n",
      "117\n",
      "118\n",
      "119\n",
      "FIZZBUZZ\n"
     ]
    }
   ],
   "source": [
    "for i in range(1, 121):\n",
    "    if (i % 3 ==0 and i % 5 == 0 ):\n",
    "        print(\"FIZZBUZZ\")\n",
    "    else:\n",
    "        print(i)"
   ]
  },
  {
   "cell_type": "markdown",
   "metadata": {},
   "source": [
    "<h2>Exercise 5</h2><a id=\"8\"></a>\n",
    "From the numbers 1 through 300 pick all numbers that the sum of the digits are divisible by 9<br>\n",
    "For example the number 261 if we add the digits 2 + 6 + 1 = 9"
   ]
  },
  {
   "cell_type": "code",
   "execution_count": 5,
   "metadata": {},
   "outputs": [],
   "source": [
    "# Your code here"
   ]
  },
  {
   "cell_type": "markdown",
   "metadata": {},
   "source": [
    "<h2>Exercise 6</h2><a id=\"10\"></a>\n",
    "<code>\n",
    "numbers = [2,7,9,12,15,3,11,22,17,6,0,-8]\n",
    "</code><br>\n",
    "List all 2 number combinations that add up to 9<br>\n",
    "List all 2 number permutations that add up to 9<br>"
   ]
  },
  {
   "cell_type": "code",
   "execution_count": 6,
   "metadata": {},
   "outputs": [],
   "source": [
    "# Your code here"
   ]
  },
  {
   "cell_type": "markdown",
   "metadata": {},
   "source": [
    "<h2>Exercise 7</h2><a id=\"22\"></a>\n",
    "<code>\n",
    "list_1 = ['chair','stools','dresser','picture frame']\n",
    "list_2 = ['mirror','rug','tv stand','chair','dresser']\n",
    "</code><br>\n",
    "1 - Print an unduplicated list of all items in both lists (union)<br>\n",
    "2 - Which items are duplicated in each list (intersection)"
   ]
  },
  {
   "cell_type": "code",
   "execution_count": 7,
   "metadata": {},
   "outputs": [],
   "source": [
    "# Your code here"
   ]
  },
  {
   "cell_type": "markdown",
   "metadata": {},
   "source": [
    "<h2>Exercise 8</h2><a id=\"14\"></a>\n",
    "Create a simulated deck of cards as a list <br>"
   ]
  },
  {
   "cell_type": "code",
   "execution_count": 8,
   "metadata": {},
   "outputs": [],
   "source": [
    "# Your code here"
   ]
  },
  {
   "cell_type": "markdown",
   "metadata": {},
   "source": [
    "<h2>Exercise 9</h2><a id=\"16\"></a>\n",
    "a - Recreate a simulated deck of cards as a dictionary where the key is the name<br>\n",
    "and the value is the value of the card.  Remember the Ace can be a 1 or 11<br>\n",
    "b - Deal 3 players (player_1, player_2, player_3) 2 cards and determine who has the higher amount<br>\n",
    "NOTE: Deal with the fact the Ace returns a tuple take the higher amount for now"
   ]
  },
  {
   "cell_type": "code",
   "execution_count": 9,
   "metadata": {},
   "outputs": [],
   "source": [
    "# Your code here"
   ]
  },
  {
   "cell_type": "markdown",
   "metadata": {},
   "source": [
    "This notebook is part of a python assessment for a knowledge check for a course at www.codeimmersives.com . If you accessed this notebook outside the course, you can get more information about this course online by \n",
    "clicking [here](https://www.codeimmersives.com/programs/python-aws/)."
   ]
  },
  {
   "cell_type": "markdown",
   "metadata": {},
   "source": [
    "<hr>\n",
    "\n",
    "Copyright &copy; 2021  Code Immersives"
   ]
  }
 ],
 "metadata": {
  "kernelspec": {
   "display_name": "Python 3",
   "language": "python",
   "name": "python3"
  },
  "language_info": {
   "codemirror_mode": {
    "name": "ipython",
    "version": 3
   },
   "file_extension": ".py",
   "mimetype": "text/x-python",
   "name": "python",
   "nbconvert_exporter": "python",
   "pygments_lexer": "ipython3",
   "version": "3.8.5"
  }
 },
 "nbformat": 4,
 "nbformat_minor": 4
}
